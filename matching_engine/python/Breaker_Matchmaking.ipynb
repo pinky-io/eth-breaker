{
  "nbformat": 4,
  "nbformat_minor": 0,
  "metadata": {
    "colab": {
      "provenance": []
    },
    "kernelspec": {
      "name": "python3",
      "display_name": "Python 3"
    },
    "language_info": {
      "name": "python"
    }
  },
  "cells": [
    {
      "cell_type": "code",
      "source": [
        "pip install -U sentence-transformers"
      ],
      "metadata": {
        "colab": {
          "base_uri": "https://localhost:8080/"
        },
        "id": "taRQ58mfBMeb",
        "outputId": "0738c9f9-0eca-4f4f-972e-326172dfd7da"
      },
      "execution_count": 1,
      "outputs": [
        {
          "output_type": "stream",
          "name": "stdout",
          "text": [
            "Collecting sentence-transformers\n",
            "  Downloading sentence-transformers-2.2.2.tar.gz (85 kB)\n",
            "\u001b[?25l     \u001b[90m━━━━━━━━━━━━━━━━━━━━━━━━━━━━━━━━━━━━━━━━\u001b[0m \u001b[32m0.0/86.0 kB\u001b[0m \u001b[31m?\u001b[0m eta \u001b[36m-:--:--\u001b[0m\r\u001b[2K     \u001b[91m━━━━━━━━━━━━━━━━━━━━━━━━━━━━━━━━━━━━━━\u001b[0m\u001b[90m╺\u001b[0m\u001b[90m━\u001b[0m \u001b[32m81.9/86.0 kB\u001b[0m \u001b[31m2.6 MB/s\u001b[0m eta \u001b[36m0:00:01\u001b[0m\r\u001b[2K     \u001b[90m━━━━━━━━━━━━━━━━━━━━━━━━━━━━━━━━━━━━━━━━\u001b[0m \u001b[32m86.0/86.0 kB\u001b[0m \u001b[31m2.1 MB/s\u001b[0m eta \u001b[36m0:00:00\u001b[0m\n",
            "\u001b[?25h  Preparing metadata (setup.py) ... \u001b[?25l\u001b[?25hdone\n",
            "Requirement already satisfied: transformers<5.0.0,>=4.6.0 in /usr/local/lib/python3.10/dist-packages (from sentence-transformers) (4.35.2)\n",
            "Requirement already satisfied: tqdm in /usr/local/lib/python3.10/dist-packages (from sentence-transformers) (4.66.1)\n",
            "Requirement already satisfied: torch>=1.6.0 in /usr/local/lib/python3.10/dist-packages (from sentence-transformers) (2.1.0+cu118)\n",
            "Requirement already satisfied: torchvision in /usr/local/lib/python3.10/dist-packages (from sentence-transformers) (0.16.0+cu118)\n",
            "Requirement already satisfied: numpy in /usr/local/lib/python3.10/dist-packages (from sentence-transformers) (1.23.5)\n",
            "Requirement already satisfied: scikit-learn in /usr/local/lib/python3.10/dist-packages (from sentence-transformers) (1.2.2)\n",
            "Requirement already satisfied: scipy in /usr/local/lib/python3.10/dist-packages (from sentence-transformers) (1.11.3)\n",
            "Requirement already satisfied: nltk in /usr/local/lib/python3.10/dist-packages (from sentence-transformers) (3.8.1)\n",
            "Collecting sentencepiece (from sentence-transformers)\n",
            "  Downloading sentencepiece-0.1.99-cp310-cp310-manylinux_2_17_x86_64.manylinux2014_x86_64.whl (1.3 MB)\n",
            "\u001b[2K     \u001b[90m━━━━━━━━━━━━━━━━━━━━━━━━━━━━━━━━━━━━━━━━\u001b[0m \u001b[32m1.3/1.3 MB\u001b[0m \u001b[31m25.2 MB/s\u001b[0m eta \u001b[36m0:00:00\u001b[0m\n",
            "\u001b[?25hRequirement already satisfied: huggingface-hub>=0.4.0 in /usr/local/lib/python3.10/dist-packages (from sentence-transformers) (0.19.3)\n",
            "Requirement already satisfied: filelock in /usr/local/lib/python3.10/dist-packages (from huggingface-hub>=0.4.0->sentence-transformers) (3.13.1)\n",
            "Requirement already satisfied: fsspec>=2023.5.0 in /usr/local/lib/python3.10/dist-packages (from huggingface-hub>=0.4.0->sentence-transformers) (2023.6.0)\n",
            "Requirement already satisfied: requests in /usr/local/lib/python3.10/dist-packages (from huggingface-hub>=0.4.0->sentence-transformers) (2.31.0)\n",
            "Requirement already satisfied: pyyaml>=5.1 in /usr/local/lib/python3.10/dist-packages (from huggingface-hub>=0.4.0->sentence-transformers) (6.0.1)\n",
            "Requirement already satisfied: typing-extensions>=3.7.4.3 in /usr/local/lib/python3.10/dist-packages (from huggingface-hub>=0.4.0->sentence-transformers) (4.5.0)\n",
            "Requirement already satisfied: packaging>=20.9 in /usr/local/lib/python3.10/dist-packages (from huggingface-hub>=0.4.0->sentence-transformers) (23.2)\n",
            "Requirement already satisfied: sympy in /usr/local/lib/python3.10/dist-packages (from torch>=1.6.0->sentence-transformers) (1.12)\n",
            "Requirement already satisfied: networkx in /usr/local/lib/python3.10/dist-packages (from torch>=1.6.0->sentence-transformers) (3.2.1)\n",
            "Requirement already satisfied: jinja2 in /usr/local/lib/python3.10/dist-packages (from torch>=1.6.0->sentence-transformers) (3.1.2)\n",
            "Requirement already satisfied: triton==2.1.0 in /usr/local/lib/python3.10/dist-packages (from torch>=1.6.0->sentence-transformers) (2.1.0)\n",
            "Requirement already satisfied: regex!=2019.12.17 in /usr/local/lib/python3.10/dist-packages (from transformers<5.0.0,>=4.6.0->sentence-transformers) (2023.6.3)\n",
            "Requirement already satisfied: tokenizers<0.19,>=0.14 in /usr/local/lib/python3.10/dist-packages (from transformers<5.0.0,>=4.6.0->sentence-transformers) (0.15.0)\n",
            "Requirement already satisfied: safetensors>=0.3.1 in /usr/local/lib/python3.10/dist-packages (from transformers<5.0.0,>=4.6.0->sentence-transformers) (0.4.0)\n",
            "Requirement already satisfied: click in /usr/local/lib/python3.10/dist-packages (from nltk->sentence-transformers) (8.1.7)\n",
            "Requirement already satisfied: joblib in /usr/local/lib/python3.10/dist-packages (from nltk->sentence-transformers) (1.3.2)\n",
            "Requirement already satisfied: threadpoolctl>=2.0.0 in /usr/local/lib/python3.10/dist-packages (from scikit-learn->sentence-transformers) (3.2.0)\n",
            "Requirement already satisfied: pillow!=8.3.*,>=5.3.0 in /usr/local/lib/python3.10/dist-packages (from torchvision->sentence-transformers) (9.4.0)\n",
            "Requirement already satisfied: MarkupSafe>=2.0 in /usr/local/lib/python3.10/dist-packages (from jinja2->torch>=1.6.0->sentence-transformers) (2.1.3)\n",
            "Requirement already satisfied: charset-normalizer<4,>=2 in /usr/local/lib/python3.10/dist-packages (from requests->huggingface-hub>=0.4.0->sentence-transformers) (3.3.2)\n",
            "Requirement already satisfied: idna<4,>=2.5 in /usr/local/lib/python3.10/dist-packages (from requests->huggingface-hub>=0.4.0->sentence-transformers) (3.4)\n",
            "Requirement already satisfied: urllib3<3,>=1.21.1 in /usr/local/lib/python3.10/dist-packages (from requests->huggingface-hub>=0.4.0->sentence-transformers) (2.0.7)\n",
            "Requirement already satisfied: certifi>=2017.4.17 in /usr/local/lib/python3.10/dist-packages (from requests->huggingface-hub>=0.4.0->sentence-transformers) (2023.7.22)\n",
            "Requirement already satisfied: mpmath>=0.19 in /usr/local/lib/python3.10/dist-packages (from sympy->torch>=1.6.0->sentence-transformers) (1.3.0)\n",
            "Building wheels for collected packages: sentence-transformers\n",
            "  Building wheel for sentence-transformers (setup.py) ... \u001b[?25l\u001b[?25hdone\n",
            "  Created wheel for sentence-transformers: filename=sentence_transformers-2.2.2-py3-none-any.whl size=125923 sha256=174f15f7655a025daca74471b2159eba15840f61582df3a611b85ef86e56e9fd\n",
            "  Stored in directory: /root/.cache/pip/wheels/62/f2/10/1e606fd5f02395388f74e7462910fe851042f97238cbbd902f\n",
            "Successfully built sentence-transformers\n",
            "Installing collected packages: sentencepiece, sentence-transformers\n",
            "Successfully installed sentence-transformers-2.2.2 sentencepiece-0.1.99\n"
          ]
        }
      ]
    },
    {
      "cell_type": "code",
      "source": [
        "!pip install load_dotenv"
      ],
      "metadata": {
        "colab": {
          "base_uri": "https://localhost:8080/"
        },
        "id": "vjbazgQMHSAG",
        "outputId": "7b2bf238-69e8-4b00-a5b7-3bdd6a1b874e"
      },
      "execution_count": 5,
      "outputs": [
        {
          "output_type": "stream",
          "name": "stdout",
          "text": [
            "Collecting load_dotenv\n",
            "  Downloading load_dotenv-0.1.0-py3-none-any.whl (7.2 kB)\n",
            "Collecting python-dotenv (from load_dotenv)\n",
            "  Downloading python_dotenv-1.0.0-py3-none-any.whl (19 kB)\n",
            "Installing collected packages: python-dotenv, load_dotenv\n",
            "Successfully installed load_dotenv-0.1.0 python-dotenv-1.0.0\n"
          ]
        }
      ]
    },
    {
      "cell_type": "code",
      "source": [
        "from sentence_transformers import SentenceTransformer, util\n",
        "import pandas as pd\n",
        "import numpy as np\n",
        "from sklearn.metrics.pairwise import cosine_similarity\n",
        "from dotenv import load_dotenv\n",
        "import json\n",
        "import csv\n",
        "import os\n",
        "import requests\n",
        "model = SentenceTransformer('all-MiniLM-L6-v2')"
      ],
      "metadata": {
        "id": "MnemgCcLBmdC"
      },
      "execution_count": 6,
      "outputs": []
    },
    {
      "cell_type": "code",
      "source": [],
      "metadata": {
        "colab": {
          "base_uri": "https://localhost:8080/"
        },
        "id": "WwCt9mWEQ0Vj",
        "outputId": "f5121fe2-002e-454e-dfc8-e4b5588ababa"
      },
      "execution_count": 7,
      "outputs": [
        {
          "output_type": "stream",
          "name": "stdout",
          "text": [
            "contractsData.csv  sample_data\n"
          ]
        }
      ]
    },
    {
      "cell_type": "code",
      "source": [
        "\n",
        "csv_path = 'similaritydata.csv'\n",
        "df_user = pd.read_csv(csv_path)\n",
        "df = df_user.drop(['Unnamed: 0'], axis=1)\n",
        "\n",
        "df.head()\n",
        "\n"
      ],
      "metadata": {
        "colab": {
          "base_uri": "https://localhost:8080/",
          "height": 80
        },
        "id": "ESlOCeAwB3WV",
        "outputId": "af00062c-864c-4d7c-b0dc-8622728a7118"
      },
      "execution_count": 48,
      "outputs": [
        {
          "output_type": "execute_result",
          "data": {
            "text/plain": [
              "                                       wallet  \\\n",
              "0  0x1a1710F0238b516c2fad1dd0F1EAD108656Fdc32   \n",
              "\n",
              "                                             summary  \n",
              "0  The Ethereum Name Service (ENS) is a blockchai...  "
            ],
            "text/html": [
              "\n",
              "  <div id=\"df-2d8bda70-1aac-48ed-aa05-98dcf5cd7ba4\" class=\"colab-df-container\">\n",
              "    <div>\n",
              "<style scoped>\n",
              "    .dataframe tbody tr th:only-of-type {\n",
              "        vertical-align: middle;\n",
              "    }\n",
              "\n",
              "    .dataframe tbody tr th {\n",
              "        vertical-align: top;\n",
              "    }\n",
              "\n",
              "    .dataframe thead th {\n",
              "        text-align: right;\n",
              "    }\n",
              "</style>\n",
              "<table border=\"1\" class=\"dataframe\">\n",
              "  <thead>\n",
              "    <tr style=\"text-align: right;\">\n",
              "      <th></th>\n",
              "      <th>wallet</th>\n",
              "      <th>summary</th>\n",
              "    </tr>\n",
              "  </thead>\n",
              "  <tbody>\n",
              "    <tr>\n",
              "      <th>0</th>\n",
              "      <td>0x1a1710F0238b516c2fad1dd0F1EAD108656Fdc32</td>\n",
              "      <td>The Ethereum Name Service (ENS) is a blockchai...</td>\n",
              "    </tr>\n",
              "  </tbody>\n",
              "</table>\n",
              "</div>\n",
              "    <div class=\"colab-df-buttons\">\n",
              "\n",
              "  <div class=\"colab-df-container\">\n",
              "    <button class=\"colab-df-convert\" onclick=\"convertToInteractive('df-2d8bda70-1aac-48ed-aa05-98dcf5cd7ba4')\"\n",
              "            title=\"Convert this dataframe to an interactive table.\"\n",
              "            style=\"display:none;\">\n",
              "\n",
              "  <svg xmlns=\"http://www.w3.org/2000/svg\" height=\"24px\" viewBox=\"0 -960 960 960\">\n",
              "    <path d=\"M120-120v-720h720v720H120Zm60-500h600v-160H180v160Zm220 220h160v-160H400v160Zm0 220h160v-160H400v160ZM180-400h160v-160H180v160Zm440 0h160v-160H620v160ZM180-180h160v-160H180v160Zm440 0h160v-160H620v160Z\"/>\n",
              "  </svg>\n",
              "    </button>\n",
              "\n",
              "  <style>\n",
              "    .colab-df-container {\n",
              "      display:flex;\n",
              "      gap: 12px;\n",
              "    }\n",
              "\n",
              "    .colab-df-convert {\n",
              "      background-color: #E8F0FE;\n",
              "      border: none;\n",
              "      border-radius: 50%;\n",
              "      cursor: pointer;\n",
              "      display: none;\n",
              "      fill: #1967D2;\n",
              "      height: 32px;\n",
              "      padding: 0 0 0 0;\n",
              "      width: 32px;\n",
              "    }\n",
              "\n",
              "    .colab-df-convert:hover {\n",
              "      background-color: #E2EBFA;\n",
              "      box-shadow: 0px 1px 2px rgba(60, 64, 67, 0.3), 0px 1px 3px 1px rgba(60, 64, 67, 0.15);\n",
              "      fill: #174EA6;\n",
              "    }\n",
              "\n",
              "    .colab-df-buttons div {\n",
              "      margin-bottom: 4px;\n",
              "    }\n",
              "\n",
              "    [theme=dark] .colab-df-convert {\n",
              "      background-color: #3B4455;\n",
              "      fill: #D2E3FC;\n",
              "    }\n",
              "\n",
              "    [theme=dark] .colab-df-convert:hover {\n",
              "      background-color: #434B5C;\n",
              "      box-shadow: 0px 1px 3px 1px rgba(0, 0, 0, 0.15);\n",
              "      filter: drop-shadow(0px 1px 2px rgba(0, 0, 0, 0.3));\n",
              "      fill: #FFFFFF;\n",
              "    }\n",
              "  </style>\n",
              "\n",
              "    <script>\n",
              "      const buttonEl =\n",
              "        document.querySelector('#df-2d8bda70-1aac-48ed-aa05-98dcf5cd7ba4 button.colab-df-convert');\n",
              "      buttonEl.style.display =\n",
              "        google.colab.kernel.accessAllowed ? 'block' : 'none';\n",
              "\n",
              "      async function convertToInteractive(key) {\n",
              "        const element = document.querySelector('#df-2d8bda70-1aac-48ed-aa05-98dcf5cd7ba4');\n",
              "        const dataTable =\n",
              "          await google.colab.kernel.invokeFunction('convertToInteractive',\n",
              "                                                    [key], {});\n",
              "        if (!dataTable) return;\n",
              "\n",
              "        const docLinkHtml = 'Like what you see? Visit the ' +\n",
              "          '<a target=\"_blank\" href=https://colab.research.google.com/notebooks/data_table.ipynb>data table notebook</a>'\n",
              "          + ' to learn more about interactive tables.';\n",
              "        element.innerHTML = '';\n",
              "        dataTable['output_type'] = 'display_data';\n",
              "        await google.colab.output.renderOutput(dataTable, element);\n",
              "        const docLink = document.createElement('div');\n",
              "        docLink.innerHTML = docLinkHtml;\n",
              "        element.appendChild(docLink);\n",
              "      }\n",
              "    </script>\n",
              "  </div>\n",
              "\n",
              "    </div>\n",
              "  </div>\n"
            ]
          },
          "metadata": {},
          "execution_count": 48
        }
      ]
    },
    {
      "cell_type": "code",
      "source": [
        "df = df.append({'wallet': '0x25420F306A203A02e33Fd778FBd7867d76CfeB3E', 'summary': 'i like to swim'}, ignore_index=True)\n"
      ],
      "metadata": {
        "colab": {
          "base_uri": "https://localhost:8080/"
        },
        "id": "oHv8wgrJS98z",
        "outputId": "415bc03e-c6cb-48a8-9e3f-ce0e67638711"
      },
      "execution_count": 49,
      "outputs": [
        {
          "output_type": "stream",
          "name": "stderr",
          "text": [
            "<ipython-input-49-7e233a4d7506>:1: FutureWarning: The frame.append method is deprecated and will be removed from pandas in a future version. Use pandas.concat instead.\n",
            "  df = df.append({'wallet': '0x25420F306A203A02e33Fd778FBd7867d76CfeB3E', 'summary': 'i like to swim'}, ignore_index=True)\n"
          ]
        }
      ]
    },
    {
      "cell_type": "code",
      "source": [
        "df = df.append({'wallet': '0x25420F306A203A02e33Fd778FBd7867d76CfeB34', 'summary': 'i like waterpolo'}, ignore_index=True)"
      ],
      "metadata": {
        "colab": {
          "base_uri": "https://localhost:8080/"
        },
        "id": "L3YkFuKfLxVm",
        "outputId": "b9747389-a577-4ece-bea2-85caa1a762f3"
      },
      "execution_count": 50,
      "outputs": [
        {
          "output_type": "stream",
          "name": "stderr",
          "text": [
            "<ipython-input-50-34486cbca493>:1: FutureWarning: The frame.append method is deprecated and will be removed from pandas in a future version. Use pandas.concat instead.\n",
            "  df = df.append({'wallet': '0x25420F306A203A02e33Fd778FBd7867d76CfeB34', 'summary': 'i like waterpolo'}, ignore_index=True)\n"
          ]
        }
      ]
    },
    {
      "cell_type": "code",
      "source": [
        "df = df.append({'wallet': '0x25420F306A203A02e33Fd778FBd7867d76CfeB35', 'summary': 'i like using blockchain applications'}, ignore_index=True)"
      ],
      "metadata": {
        "colab": {
          "base_uri": "https://localhost:8080/"
        },
        "id": "n-0b9PpKL3gH",
        "outputId": "2b078efe-c6c9-475b-84cc-a394832d99ad"
      },
      "execution_count": 51,
      "outputs": [
        {
          "output_type": "stream",
          "name": "stderr",
          "text": [
            "<ipython-input-51-c171e74adfcd>:1: FutureWarning: The frame.append method is deprecated and will be removed from pandas in a future version. Use pandas.concat instead.\n",
            "  df = df.append({'wallet': '0x25420F306A203A02e33Fd778FBd7867d76CfeB35', 'summary': 'i like using blockchain applications'}, ignore_index=True)\n"
          ]
        }
      ]
    },
    {
      "cell_type": "code",
      "source": [
        "df.head()"
      ],
      "metadata": {
        "colab": {
          "base_uri": "https://localhost:8080/",
          "height": 244
        },
        "id": "dU0k2wKFS95E",
        "outputId": "9dafa0e0-7426-4220-f841-2be99218009f"
      },
      "execution_count": 57,
      "outputs": [
        {
          "output_type": "execute_result",
          "data": {
            "text/plain": [
              "                                       wallet  \\\n",
              "0  0x1a1710F0238b516c2fad1dd0F1EAD108656Fdc32   \n",
              "1  0x25420F306A203A02e33Fd778FBd7867d76CfeB3E   \n",
              "2  0x25420F306A203A02e33Fd778FBd7867d76CfeB34   \n",
              "3  0x25420F306A203A02e33Fd778FBd7867d76CfeB35   \n",
              "\n",
              "                                             summary  \\\n",
              "0  The Ethereum Name Service (ENS) is a blockchai...   \n",
              "1                                     i like to swim   \n",
              "2                                   i like waterpolo   \n",
              "3               i like using blockchain applications   \n",
              "\n",
              "                                   summary_Embedding  \n",
              "0  [-0.07675861, 0.02294454, -0.057730805, -0.121...  \n",
              "1  [-0.02951361, -0.012246339, 0.043405607, 0.043...  \n",
              "2  [-0.09163988, -0.06130872, -0.046394553, 0.006...  \n",
              "3  [-0.07153434, -0.006232658, -0.036341764, -0.0...  "
            ],
            "text/html": [
              "\n",
              "  <div id=\"df-77cc8beb-6356-4bb3-8cea-b7586fb581ca\" class=\"colab-df-container\">\n",
              "    <div>\n",
              "<style scoped>\n",
              "    .dataframe tbody tr th:only-of-type {\n",
              "        vertical-align: middle;\n",
              "    }\n",
              "\n",
              "    .dataframe tbody tr th {\n",
              "        vertical-align: top;\n",
              "    }\n",
              "\n",
              "    .dataframe thead th {\n",
              "        text-align: right;\n",
              "    }\n",
              "</style>\n",
              "<table border=\"1\" class=\"dataframe\">\n",
              "  <thead>\n",
              "    <tr style=\"text-align: right;\">\n",
              "      <th></th>\n",
              "      <th>wallet</th>\n",
              "      <th>summary</th>\n",
              "      <th>summary_Embedding</th>\n",
              "    </tr>\n",
              "  </thead>\n",
              "  <tbody>\n",
              "    <tr>\n",
              "      <th>0</th>\n",
              "      <td>0x1a1710F0238b516c2fad1dd0F1EAD108656Fdc32</td>\n",
              "      <td>The Ethereum Name Service (ENS) is a blockchai...</td>\n",
              "      <td>[-0.07675861, 0.02294454, -0.057730805, -0.121...</td>\n",
              "    </tr>\n",
              "    <tr>\n",
              "      <th>1</th>\n",
              "      <td>0x25420F306A203A02e33Fd778FBd7867d76CfeB3E</td>\n",
              "      <td>i like to swim</td>\n",
              "      <td>[-0.02951361, -0.012246339, 0.043405607, 0.043...</td>\n",
              "    </tr>\n",
              "    <tr>\n",
              "      <th>2</th>\n",
              "      <td>0x25420F306A203A02e33Fd778FBd7867d76CfeB34</td>\n",
              "      <td>i like waterpolo</td>\n",
              "      <td>[-0.09163988, -0.06130872, -0.046394553, 0.006...</td>\n",
              "    </tr>\n",
              "    <tr>\n",
              "      <th>3</th>\n",
              "      <td>0x25420F306A203A02e33Fd778FBd7867d76CfeB35</td>\n",
              "      <td>i like using blockchain applications</td>\n",
              "      <td>[-0.07153434, -0.006232658, -0.036341764, -0.0...</td>\n",
              "    </tr>\n",
              "  </tbody>\n",
              "</table>\n",
              "</div>\n",
              "    <div class=\"colab-df-buttons\">\n",
              "\n",
              "  <div class=\"colab-df-container\">\n",
              "    <button class=\"colab-df-convert\" onclick=\"convertToInteractive('df-77cc8beb-6356-4bb3-8cea-b7586fb581ca')\"\n",
              "            title=\"Convert this dataframe to an interactive table.\"\n",
              "            style=\"display:none;\">\n",
              "\n",
              "  <svg xmlns=\"http://www.w3.org/2000/svg\" height=\"24px\" viewBox=\"0 -960 960 960\">\n",
              "    <path d=\"M120-120v-720h720v720H120Zm60-500h600v-160H180v160Zm220 220h160v-160H400v160Zm0 220h160v-160H400v160ZM180-400h160v-160H180v160Zm440 0h160v-160H620v160ZM180-180h160v-160H180v160Zm440 0h160v-160H620v160Z\"/>\n",
              "  </svg>\n",
              "    </button>\n",
              "\n",
              "  <style>\n",
              "    .colab-df-container {\n",
              "      display:flex;\n",
              "      gap: 12px;\n",
              "    }\n",
              "\n",
              "    .colab-df-convert {\n",
              "      background-color: #E8F0FE;\n",
              "      border: none;\n",
              "      border-radius: 50%;\n",
              "      cursor: pointer;\n",
              "      display: none;\n",
              "      fill: #1967D2;\n",
              "      height: 32px;\n",
              "      padding: 0 0 0 0;\n",
              "      width: 32px;\n",
              "    }\n",
              "\n",
              "    .colab-df-convert:hover {\n",
              "      background-color: #E2EBFA;\n",
              "      box-shadow: 0px 1px 2px rgba(60, 64, 67, 0.3), 0px 1px 3px 1px rgba(60, 64, 67, 0.15);\n",
              "      fill: #174EA6;\n",
              "    }\n",
              "\n",
              "    .colab-df-buttons div {\n",
              "      margin-bottom: 4px;\n",
              "    }\n",
              "\n",
              "    [theme=dark] .colab-df-convert {\n",
              "      background-color: #3B4455;\n",
              "      fill: #D2E3FC;\n",
              "    }\n",
              "\n",
              "    [theme=dark] .colab-df-convert:hover {\n",
              "      background-color: #434B5C;\n",
              "      box-shadow: 0px 1px 3px 1px rgba(0, 0, 0, 0.15);\n",
              "      filter: drop-shadow(0px 1px 2px rgba(0, 0, 0, 0.3));\n",
              "      fill: #FFFFFF;\n",
              "    }\n",
              "  </style>\n",
              "\n",
              "    <script>\n",
              "      const buttonEl =\n",
              "        document.querySelector('#df-77cc8beb-6356-4bb3-8cea-b7586fb581ca button.colab-df-convert');\n",
              "      buttonEl.style.display =\n",
              "        google.colab.kernel.accessAllowed ? 'block' : 'none';\n",
              "\n",
              "      async function convertToInteractive(key) {\n",
              "        const element = document.querySelector('#df-77cc8beb-6356-4bb3-8cea-b7586fb581ca');\n",
              "        const dataTable =\n",
              "          await google.colab.kernel.invokeFunction('convertToInteractive',\n",
              "                                                    [key], {});\n",
              "        if (!dataTable) return;\n",
              "\n",
              "        const docLinkHtml = 'Like what you see? Visit the ' +\n",
              "          '<a target=\"_blank\" href=https://colab.research.google.com/notebooks/data_table.ipynb>data table notebook</a>'\n",
              "          + ' to learn more about interactive tables.';\n",
              "        element.innerHTML = '';\n",
              "        dataTable['output_type'] = 'display_data';\n",
              "        await google.colab.output.renderOutput(dataTable, element);\n",
              "        const docLink = document.createElement('div');\n",
              "        docLink.innerHTML = docLinkHtml;\n",
              "        element.appendChild(docLink);\n",
              "      }\n",
              "    </script>\n",
              "  </div>\n",
              "\n",
              "\n",
              "<div id=\"df-a1d9a266-548a-4457-8549-e78f937a3058\">\n",
              "  <button class=\"colab-df-quickchart\" onclick=\"quickchart('df-a1d9a266-548a-4457-8549-e78f937a3058')\"\n",
              "            title=\"Suggest charts\"\n",
              "            style=\"display:none;\">\n",
              "\n",
              "<svg xmlns=\"http://www.w3.org/2000/svg\" height=\"24px\"viewBox=\"0 0 24 24\"\n",
              "     width=\"24px\">\n",
              "    <g>\n",
              "        <path d=\"M19 3H5c-1.1 0-2 .9-2 2v14c0 1.1.9 2 2 2h14c1.1 0 2-.9 2-2V5c0-1.1-.9-2-2-2zM9 17H7v-7h2v7zm4 0h-2V7h2v10zm4 0h-2v-4h2v4z\"/>\n",
              "    </g>\n",
              "</svg>\n",
              "  </button>\n",
              "\n",
              "<style>\n",
              "  .colab-df-quickchart {\n",
              "      --bg-color: #E8F0FE;\n",
              "      --fill-color: #1967D2;\n",
              "      --hover-bg-color: #E2EBFA;\n",
              "      --hover-fill-color: #174EA6;\n",
              "      --disabled-fill-color: #AAA;\n",
              "      --disabled-bg-color: #DDD;\n",
              "  }\n",
              "\n",
              "  [theme=dark] .colab-df-quickchart {\n",
              "      --bg-color: #3B4455;\n",
              "      --fill-color: #D2E3FC;\n",
              "      --hover-bg-color: #434B5C;\n",
              "      --hover-fill-color: #FFFFFF;\n",
              "      --disabled-bg-color: #3B4455;\n",
              "      --disabled-fill-color: #666;\n",
              "  }\n",
              "\n",
              "  .colab-df-quickchart {\n",
              "    background-color: var(--bg-color);\n",
              "    border: none;\n",
              "    border-radius: 50%;\n",
              "    cursor: pointer;\n",
              "    display: none;\n",
              "    fill: var(--fill-color);\n",
              "    height: 32px;\n",
              "    padding: 0;\n",
              "    width: 32px;\n",
              "  }\n",
              "\n",
              "  .colab-df-quickchart:hover {\n",
              "    background-color: var(--hover-bg-color);\n",
              "    box-shadow: 0 1px 2px rgba(60, 64, 67, 0.3), 0 1px 3px 1px rgba(60, 64, 67, 0.15);\n",
              "    fill: var(--button-hover-fill-color);\n",
              "  }\n",
              "\n",
              "  .colab-df-quickchart-complete:disabled,\n",
              "  .colab-df-quickchart-complete:disabled:hover {\n",
              "    background-color: var(--disabled-bg-color);\n",
              "    fill: var(--disabled-fill-color);\n",
              "    box-shadow: none;\n",
              "  }\n",
              "\n",
              "  .colab-df-spinner {\n",
              "    border: 2px solid var(--fill-color);\n",
              "    border-color: transparent;\n",
              "    border-bottom-color: var(--fill-color);\n",
              "    animation:\n",
              "      spin 1s steps(1) infinite;\n",
              "  }\n",
              "\n",
              "  @keyframes spin {\n",
              "    0% {\n",
              "      border-color: transparent;\n",
              "      border-bottom-color: var(--fill-color);\n",
              "      border-left-color: var(--fill-color);\n",
              "    }\n",
              "    20% {\n",
              "      border-color: transparent;\n",
              "      border-left-color: var(--fill-color);\n",
              "      border-top-color: var(--fill-color);\n",
              "    }\n",
              "    30% {\n",
              "      border-color: transparent;\n",
              "      border-left-color: var(--fill-color);\n",
              "      border-top-color: var(--fill-color);\n",
              "      border-right-color: var(--fill-color);\n",
              "    }\n",
              "    40% {\n",
              "      border-color: transparent;\n",
              "      border-right-color: var(--fill-color);\n",
              "      border-top-color: var(--fill-color);\n",
              "    }\n",
              "    60% {\n",
              "      border-color: transparent;\n",
              "      border-right-color: var(--fill-color);\n",
              "    }\n",
              "    80% {\n",
              "      border-color: transparent;\n",
              "      border-right-color: var(--fill-color);\n",
              "      border-bottom-color: var(--fill-color);\n",
              "    }\n",
              "    90% {\n",
              "      border-color: transparent;\n",
              "      border-bottom-color: var(--fill-color);\n",
              "    }\n",
              "  }\n",
              "</style>\n",
              "\n",
              "  <script>\n",
              "    async function quickchart(key) {\n",
              "      const quickchartButtonEl =\n",
              "        document.querySelector('#' + key + ' button');\n",
              "      quickchartButtonEl.disabled = true;  // To prevent multiple clicks.\n",
              "      quickchartButtonEl.classList.add('colab-df-spinner');\n",
              "      try {\n",
              "        const charts = await google.colab.kernel.invokeFunction(\n",
              "            'suggestCharts', [key], {});\n",
              "      } catch (error) {\n",
              "        console.error('Error during call to suggestCharts:', error);\n",
              "      }\n",
              "      quickchartButtonEl.classList.remove('colab-df-spinner');\n",
              "      quickchartButtonEl.classList.add('colab-df-quickchart-complete');\n",
              "    }\n",
              "    (() => {\n",
              "      let quickchartButtonEl =\n",
              "        document.querySelector('#df-a1d9a266-548a-4457-8549-e78f937a3058 button');\n",
              "      quickchartButtonEl.style.display =\n",
              "        google.colab.kernel.accessAllowed ? 'block' : 'none';\n",
              "    })();\n",
              "  </script>\n",
              "</div>\n",
              "    </div>\n",
              "  </div>\n"
            ]
          },
          "metadata": {},
          "execution_count": 57
        }
      ]
    },
    {
      "cell_type": "markdown",
      "source": [
        "# Nouvelle section"
      ],
      "metadata": {
        "id": "PCaasr_cI-WM"
      }
    },
    {
      "cell_type": "code",
      "source": [
        "community"
      ],
      "metadata": {
        "colab": {
          "base_uri": "https://localhost:8080/"
        },
        "id": "S9_qOUrxJZ97",
        "outputId": "74df48e2-5ffd-4621-9371-2d5a2ab3faca"
      },
      "execution_count": null,
      "outputs": [
        {
          "output_type": "execute_result",
          "data": {
            "text/plain": [
              "[{'Name': 'Emma Johnson',\n",
              "  'Expertise1': 'Digital Marketing',\n",
              "  'Expertise2': 'Brand Development',\n",
              "  'Expertise3': 'User Experience Design',\n",
              "  'Know1': 'How do you measure and track customer engagement effectively in the early stages of your startup?',\n",
              "  'Know2': 'What strategies have you found most effective for building and maintaining a strong brand identity?',\n",
              "  'Know3': 'Can you share any user experience pitfalls to avoid when designing an app for a non-technical audience?'},\n",
              " {'Name': 'Arjun Patel',\n",
              "  'Expertise1': 'FinTech Innovations',\n",
              "  'Expertise2': 'Blockchain Technology',\n",
              "  'Expertise3': 'Regulatory Compliance',\n",
              "  'Know1': 'What are the key challenges you faced when seeking funding for a FinTech startup, and how did you overcome them?',\n",
              "  'Know2': 'How do you stay ahead of the curve with blockchain technology trends and their applications?',\n",
              "  'Know3': 'Can you discuss some strategies to navigate the complexities of regulatory compliance in the financial sector?'},\n",
              " {'Name': 'Sofia Ramirez',\n",
              "  'Expertise1': 'Sustainable Business Practices',\n",
              "  'Expertise2': 'Supply Chain Optimization',\n",
              "  'Expertise3': 'Renewable Energy Solutions',\n",
              "  'Know1': 'In what ways have you integrated sustainability into your business model without compromising profitability?',\n",
              "  'Know2': 'How do you manage and optimize a supply chain to reduce carbon footprint while still being cost-effective?',\n",
              "  'Know3': 'What renewable energy innovations do you predict will have the most significant impact on startups in the next five years?'},\n",
              " {'Name': 'James Lee',\n",
              "  'Expertise1': 'Artificial Intelligence',\n",
              "  'Expertise2': 'Machine Learning Algorithms',\n",
              "  'Expertise3': 'Data Analytics',\n",
              "  'Know1': 'What ethical considerations do you take into account when developing AI for consumer applications?',\n",
              "  'Know2': 'How do you approach the challenge of acquiring quality data sets for machine learning in a niche market?',\n",
              "  'Know3': 'Can you share an experience where data analytics provided a pivotal insight for your business strategy?'},\n",
              " {'Name': 'Lucas Hernandez',\n",
              "  'Expertise1': 'Community Engagement',\n",
              "  'Expertise2': 'Brand Advocacy',\n",
              "  'Expertise3': 'User-Generated Content',\n",
              "  'Know1': 'How do you encourage initial users to become active community members?',\n",
              "  'Know2': 'What strategies work best for turning customers into brand advocates?',\n",
              "  'Know3': 'How do you maintain authenticity when leveraging user-generated content?'},\n",
              " {'Name': 'Mia Gonzalez',\n",
              "  'Expertise1': 'Online Communities',\n",
              "  'Expertise2': 'Content Strategy',\n",
              "  'Expertise3': 'Event Planning',\n",
              "  'Know1': 'What platforms have you found most effective for building online communities?',\n",
              "  'Know2': 'How do you tailor content strategy to foster community growth?',\n",
              "  'Know3': 'What are your key considerations when planning community-building events?'},\n",
              " {'Name': 'Liam Smith',\n",
              "  'Expertise1': 'E-Commerce',\n",
              "  'Expertise2': 'SEO',\n",
              "  'Expertise3': 'Social Media Marketing',\n",
              "  'Know1': 'How do you balance paid and organic growth when budget is limited?',\n",
              "  'Know2': 'What SEO strategies have yielded the best ROI for your business?',\n",
              "  'Know3': 'How important is influencer marketing in your overall social media strategy?'},\n",
              " {'Name': 'Olivia Brown',\n",
              "  'Expertise1': 'Mobile App Development',\n",
              "  'Expertise2': 'User Acquisition',\n",
              "  'Expertise3': 'Monetization Strategies',\n",
              "  'Know1': 'What has been your most successful user acquisition channel?',\n",
              "  'Know2': 'How do you optimize your funnel to improve user retention?',\n",
              "  'Know3': 'What monetization model do you find most sustainable?'},\n",
              " {'Name': 'Noah Wilson',\n",
              "  'Expertise1': 'Cybersecurity',\n",
              "  'Expertise2': 'Data Privacy',\n",
              "  'Expertise3': 'Cloud Computing',\n",
              "  'Know1': 'What are the first steps you take to secure a new digital product?',\n",
              "  'Know2': 'How do you build trust with users around data privacy?',\n",
              "  'Know3': 'How has cloud computing changed your approach to scalability?'},\n",
              " {'Name': 'Ava Martinez',\n",
              "  'Expertise1': 'SaaS',\n",
              "  'Expertise2': 'B2B Sales',\n",
              "  'Expertise3': 'Customer Success Management',\n",
              "  'Know1': \"What's your process for identifying the ideal customer profile?\",\n",
              "  'Know2': 'How do you align your sales and product teams for better customer success?',\n",
              "  'Know3': 'What customer success metrics are most indicative of long-term growth?'},\n",
              " {'Name': 'William Thomas',\n",
              "  'Expertise1': 'Virtual Reality',\n",
              "  'Expertise2': '3D Modeling',\n",
              "  'Expertise3': 'Interactive Design',\n",
              "  'Know1': 'What are the biggest challenges in creating content for VR?',\n",
              "  'Know2': 'How do you see the future of 3D modeling evolving?',\n",
              "  'Know3': \"What's your approach to designing interactive experiences that captivate users?\"},\n",
              " {'Name': 'Isabella Garcia',\n",
              "  'Expertise1': 'Clean Tech',\n",
              "  'Expertise2': 'Sustainable Manufacturing',\n",
              "  'Expertise3': 'Energy Storage',\n",
              "  'Know1': 'How can startups in clean tech effectively compete with large incumbents?',\n",
              "  'Know2': 'What sustainable manufacturing practices have you implemented?',\n",
              "  'Know3': 'What breakthroughs in energy storage do you anticipate will be game-changers?'},\n",
              " {'Name': 'Elijah Rodriguez',\n",
              "  'Expertise1': 'AgriTech',\n",
              "  'Expertise2': 'Precision Farming',\n",
              "  'Expertise3': 'Sustainable Agriculture',\n",
              "  'Know1': 'What technologies have the most potential to disrupt traditional farming?',\n",
              "  'Know2': 'How do you measure the impact of precision farming techniques?',\n",
              "  'Know3': 'What are your strategies for promoting sustainable agriculture practices?'},\n",
              " {'Name': 'Charlotte Lee',\n",
              "  'Expertise1': 'HealthTech',\n",
              "  'Expertise2': 'Wearable Technology',\n",
              "  'Expertise3': 'Data-Driven Healthcare',\n",
              "  'Know1': 'How do you ensure user privacy when dealing with health data from wearables?',\n",
              "  'Know2': 'What role do you believe wearables will play in the future of healthcare?',\n",
              "  'Know3': 'How do you leverage data to provide personalized healthcare solutions?'},\n",
              " {'Name': 'Logan Kim',\n",
              "  'Expertise1': 'EdTech',\n",
              "  'Expertise2': 'Online Learning Platforms',\n",
              "  'Expertise3': 'Adaptive Learning',\n",
              "  'Know1': 'How do you keep students engaged in a fully online platform?',\n",
              "  'Know2': 'What techniques do you use to personalize the learning experience?',\n",
              "  'Know3': 'How do you measure the effectiveness of adaptive learning algorithms?'},\n",
              " {'Name': 'Sophia Davis',\n",
              "  'Expertise1': 'Biotech',\n",
              "  'Expertise2': 'Drug Discovery',\n",
              "  'Expertise3': 'Genetic Engineering',\n",
              "  'Know1': 'What is the most exciting trend you see in biotech right now?',\n",
              "  'Know2': 'How has technology accelerated the pace of drug discovery?',\n",
              "  'Know3': 'What ethical considerations guide your work in genetic engineering?'},\n",
              " {'Name': 'Benjamin Garcia',\n",
              "  'Expertise1': 'FoodTech',\n",
              "  'Expertise2': 'Sustainable Packaging',\n",
              "  'Expertise3': 'Supply Chain Innovation',\n",
              "  'Know1': 'How do you balance innovation with cost in the FoodTech space?',\n",
              "  'Know2': 'What advancements in sustainable packaging do you find most promising?',\n",
              "  'Know3': 'How do you ensure transparency and efficiency in your food supply chain?'}]"
            ]
          },
          "metadata": {},
          "execution_count": 13
        }
      ]
    },
    {
      "cell_type": "code",
      "source": [
        "#df = pd.DataFrame(community)\n",
        "\n",
        "def encode_and_store(sentences):\n",
        "    embeddings = model.encode(sentences, convert_to_tensor=True)\n",
        "    return embeddings.cpu().numpy()"
      ],
      "metadata": {
        "id": "Dt2s_pXsvQYU"
      },
      "execution_count": 53,
      "outputs": []
    },
    {
      "cell_type": "code",
      "source": [
        "for col in ['summary']:\n",
        "    df[f'{col}_Embedding'] = df[col].apply(lambda x: encode_and_store([x])[0])\n",
        "\n",
        "# Display the DataFrame with embeddings\n",
        "print(df.head())"
      ],
      "metadata": {
        "colab": {
          "base_uri": "https://localhost:8080/"
        },
        "id": "4gymfAYyvQUV",
        "outputId": "73dfb661-4e9d-4b83-bf80-3c4f6bc84237"
      },
      "execution_count": 54,
      "outputs": [
        {
          "output_type": "stream",
          "name": "stdout",
          "text": [
            "                                       wallet  \\\n",
            "0  0x1a1710F0238b516c2fad1dd0F1EAD108656Fdc32   \n",
            "1  0x25420F306A203A02e33Fd778FBd7867d76CfeB3E   \n",
            "2  0x25420F306A203A02e33Fd778FBd7867d76CfeB34   \n",
            "3  0x25420F306A203A02e33Fd778FBd7867d76CfeB35   \n",
            "\n",
            "                                             summary  \\\n",
            "0  The Ethereum Name Service (ENS) is a blockchai...   \n",
            "1                                     i like to swim   \n",
            "2                                   i like waterpolo   \n",
            "3               i like using blockchain applications   \n",
            "\n",
            "                                   summary_Embedding  \n",
            "0  [-0.07675861, 0.02294454, -0.057730805, -0.121...  \n",
            "1  [-0.02951361, -0.012246339, 0.043405607, 0.043...  \n",
            "2  [-0.09163988, -0.06130872, -0.046394553, 0.006...  \n",
            "3  [-0.07153434, -0.006232658, -0.036341764, -0.0...  \n"
          ]
        }
      ]
    },
    {
      "cell_type": "code",
      "source": [
        "embeddings = np.array(df['summary_Embedding'].tolist())\n",
        "cos_sim_matrix = cosine_similarity(embeddings)\n",
        "\n",
        "# Exclude self-comparison by setting diagonal to -1\n",
        "np.fill_diagonal(cos_sim_matrix, -1)\n",
        "\n",
        "# Create a DataFrame from the matrix for better visualization and analysis\n",
        "sim_df = pd.DataFrame(cos_sim_matrix, columns=df.index, index=df.index)\n",
        "\n",
        "# Ranking the preferences for each row\n",
        "ranked_preferences = {wallet: sim_df.loc[wallet].sort_values(ascending=False).index.tolist() for wallet in sim_df.index}\n",
        "\n",
        "# Printing ranked preferences\n",
        "for wallet, preferences in ranked_preferences.items():\n",
        "    print(f\"Preferences for {wallet}:\")\n",
        "    print([df.iloc[i].wallet for i in preferences])\n",
        "    print(\"\\n\")"
      ],
      "metadata": {
        "id": "EsN8-_c_vQOk",
        "colab": {
          "base_uri": "https://localhost:8080/"
        },
        "outputId": "3c7bad9c-3513-4707-c180-08e3f4fd6f93"
      },
      "execution_count": 55,
      "outputs": [
        {
          "output_type": "stream",
          "name": "stdout",
          "text": [
            "Preferences for 0:\n",
            "['0x25420F306A203A02e33Fd778FBd7867d76CfeB35', '0x25420F306A203A02e33Fd778FBd7867d76CfeB34', '0x25420F306A203A02e33Fd778FBd7867d76CfeB3E', '0x1a1710F0238b516c2fad1dd0F1EAD108656Fdc32']\n",
            "\n",
            "\n",
            "Preferences for 1:\n",
            "['0x25420F306A203A02e33Fd778FBd7867d76CfeB34', '0x25420F306A203A02e33Fd778FBd7867d76CfeB35', '0x1a1710F0238b516c2fad1dd0F1EAD108656Fdc32', '0x25420F306A203A02e33Fd778FBd7867d76CfeB3E']\n",
            "\n",
            "\n",
            "Preferences for 2:\n",
            "['0x25420F306A203A02e33Fd778FBd7867d76CfeB3E', '0x25420F306A203A02e33Fd778FBd7867d76CfeB35', '0x1a1710F0238b516c2fad1dd0F1EAD108656Fdc32', '0x25420F306A203A02e33Fd778FBd7867d76CfeB34']\n",
            "\n",
            "\n",
            "Preferences for 3:\n",
            "['0x1a1710F0238b516c2fad1dd0F1EAD108656Fdc32', '0x25420F306A203A02e33Fd778FBd7867d76CfeB3E', '0x25420F306A203A02e33Fd778FBd7867d76CfeB34', '0x25420F306A203A02e33Fd778FBd7867d76CfeB35']\n",
            "\n",
            "\n"
          ]
        }
      ]
    },
    {
      "cell_type": "code",
      "source": [
        "ranked_preferences = {df.iloc[row]['wallet']: sim_df.iloc[row].sort_values(ascending=False).index.tolist() for row in range(len(df))}\n",
        "\n",
        "# Ajouter une nouvelle colonne 'preference' au DataFrame en conservant uniquement les trois premières préférences\n",
        "df['preference'] = df['wallet'].apply(lambda wallet: [df['wallet'][index] for index in ranked_preferences[wallet]][:3])\n",
        "\n",
        "# Afficher le DataFrame pour vérifier\n",
        "print(df)"
      ],
      "metadata": {
        "colab": {
          "base_uri": "https://localhost:8080/"
        },
        "id": "mI-1mXszRwyU",
        "outputId": "aebc4d50-fa12-4a9e-eb7d-5f817a3bbe11"
      },
      "execution_count": 63,
      "outputs": [
        {
          "output_type": "stream",
          "name": "stdout",
          "text": [
            "                                       wallet  \\\n",
            "0  0x1a1710F0238b516c2fad1dd0F1EAD108656Fdc32   \n",
            "1  0x25420F306A203A02e33Fd778FBd7867d76CfeB3E   \n",
            "2  0x25420F306A203A02e33Fd778FBd7867d76CfeB34   \n",
            "3  0x25420F306A203A02e33Fd778FBd7867d76CfeB35   \n",
            "\n",
            "                                             summary  \\\n",
            "0  The Ethereum Name Service (ENS) is a blockchai...   \n",
            "1                                     i like to swim   \n",
            "2                                   i like waterpolo   \n",
            "3               i like using blockchain applications   \n",
            "\n",
            "                                   summary_Embedding  \\\n",
            "0  [-0.07675861, 0.02294454, -0.057730805, -0.121...   \n",
            "1  [-0.02951361, -0.012246339, 0.043405607, 0.043...   \n",
            "2  [-0.09163988, -0.06130872, -0.046394553, 0.006...   \n",
            "3  [-0.07153434, -0.006232658, -0.036341764, -0.0...   \n",
            "\n",
            "                                          preference  \n",
            "0  [0x25420F306A203A02e33Fd778FBd7867d76CfeB35, 0...  \n",
            "1  [0x25420F306A203A02e33Fd778FBd7867d76CfeB34, 0...  \n",
            "2  [0x25420F306A203A02e33Fd778FBd7867d76CfeB3E, 0...  \n",
            "3  [0x1a1710F0238b516c2fad1dd0F1EAD108656Fdc32, 0...  \n"
          ]
        }
      ]
    },
    {
      "cell_type": "code",
      "source": [
        "df.preference.iloc[0]"
      ],
      "metadata": {
        "colab": {
          "base_uri": "https://localhost:8080/"
        },
        "id": "8H2x0-TXRwp8",
        "outputId": "513b3727-4e5e-4ff2-927d-39d81e0452ab"
      },
      "execution_count": 64,
      "outputs": [
        {
          "output_type": "execute_result",
          "data": {
            "text/plain": [
              "['0x25420F306A203A02e33Fd778FBd7867d76CfeB35',\n",
              " '0x25420F306A203A02e33Fd778FBd7867d76CfeB34',\n",
              " '0x25420F306A203A02e33Fd778FBd7867d76CfeB3E']"
            ]
          },
          "metadata": {},
          "execution_count": 64
        }
      ]
    },
    {
      "cell_type": "code",
      "source": [],
      "metadata": {
        "id": "ppL-96QERwil"
      },
      "execution_count": null,
      "outputs": []
    },
    {
      "cell_type": "code",
      "source": [],
      "metadata": {
        "id": "qkUXCI9vAIFH"
      },
      "execution_count": null,
      "outputs": []
    }
  ]
}